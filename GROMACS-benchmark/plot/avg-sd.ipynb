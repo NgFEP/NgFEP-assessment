{
 "cells": [
  {
   "cell_type": "code",
   "execution_count": 3,
   "id": "1ec0b4b2-15a3-476c-85b1-04904fa9a472",
   "metadata": {},
   "outputs": [
    {
     "name": "stdout",
     "output_type": "stream",
     "text": [
      "[14.602999999999998, 15.258, 14.602999999999998]\n"
     ]
    },
    {
     "data": {
      "image/png": "[encoded data removed]",
      "text/plain": [
       "<Figure size 640x480 with 1 Axes>"
      ]
     },
     "metadata": {},
     "output_type": "display_data"
    }
   ],
   "source": [
    "import os\n",
    "import numpy as np\n",
    "import pandas as pd\n",
    "import matplotlib.pyplot as plt\n",
    "\n",
    "# Define the list of file names\n",
    "filenames = ['../sylvaner/GTX_1080_Ti_results_gromacs_1.dat','../sylvaner/GTX_1080_Ti_results_gromacs_4.dat','../sylvaner/GTX_1080_Ti_results_gromacs_8.dat']  # Add all your filenames here\n",
    "#filenames = ['GTX_1080_Ti.dat','GP100_cerebro.dat',\n",
    "\n",
    "device = ['cpu_1','cpu_4','cpu_8']\n",
    "# Initialize lists to hold the averages and standard deviations\n",
    "averages = []\n",
    "standard_deviations = []\n",
    "\n",
    "# Loop through each file, calculate the average and standard deviation of the second column\n",
    "for file in filenames:\n",
    "    # Check if file exists\n",
    "    if not os.path.isfile(file):\n",
    "        print(f\"File {file} not found.\")\n",
    "        continue\n",
    "\n",
    "    # Read the data from the file\n",
    "    data = pd.read_csv(file, sep='\\s+', header=None)  # Assuming whitespace delimiter, change if needed\n",
    "    second_column = data.iloc[:, 0]  # Change index if the second column is not at position 1\n",
    "\n",
    "    # Calculate average and standard deviation and append to lists\n",
    "    averages.append(second_column.mean())\n",
    "    standard_deviations.append(second_column.std())\n",
    "# Create a bar plot with error bars\n",
    "x_positions = np.arange(len(averages))\n",
    "plt.bar(x_positions, averages, yerr=standard_deviations, align='center', alpha=0.7, ecolor='black', capsize=10,color=\"magenta\")\n",
    "print(averages)\n",
    "# Add labels and title (optional)\n",
    "#plt.xlabel('Files')\n",
    "plt.ylabel('ns/day')\n",
    "plt.title('6n4o_gromacs_multi_cpu_cuda_results')\n",
    "plt.xticks(x_positions, device, rotation='vertical')\n",
    "# plt.yticks(np.arange(0,21,10))\n",
    "# plt.ylim(top=20, bottom=0)\n",
    "\n",
    "# Display the plot\n",
    "plt.tight_layout()\n",
    "#plt.show()\n",
    "plt.savefig('benchmarks_results_gromacs_multi_cpu_gpu.jpg', dpi=450, bbox_inches='tight')"
   ]
  },
  {
   "cell_type": "code",
   "execution_count": null,
   "id": "24f6cbaf-db58-4b68-bd67-f2d984d32a73",
   "metadata": {},
   "outputs": [],
   "source": [
    "import os\n",
    "import numpy as np\n",
    "import pandas as pd\n",
    "import matplotlib.pyplot as plt\n",
    "\n",
    "# Define the list of file names\n",
    "filenames = ['../sylvaner/GTX_1080_Ti_results_amber.dat',\n",
    "             '../case/TITAN_V_results_amber.dat','../case/RTX_5000_results_amber.dat',\n",
    "             '../cerebro/RTX_6000_results_amber.dat','../cerebro/GP100_results_amber.dat','../cerebro/RTX_2080_Ti_results_amber.dat',\n",
    "             '../rioja/RTX_3090_results_amber.dat','../rioja/RTX_5000_results_amber.dat','../rioja/RTX_A4500_results_amber.dat'] \n",
    "\n",
    "device = ['GTX_1080_Ti', 'TITAN_V', 'RTX_5000', 'RTX_6000', 'GP100', 'RTX_2080_Ti', 'RTX_3090', 'RTX_5000', 'RTX_A4500']\n",
    "\n",
    "# Initialize lists to hold the averages and standard deviations\n",
    "averages = []\n",
    "standard_deviations = []\n",
    "\n",
    "# Loop through each file, calculate the average and standard deviation of the second column\n",
    "for file in filenames:\n",
    "    # Check if file exists\n",
    "    if not os.path.isfile(file):\n",
    "        print(f\"File {file} not found.\")\n",
    "        continue\n",
    "\n",
    "    # Read the data from the file\n",
    "    data = pd.read_csv(file, sep='\\s+', header=None)  # Assuming whitespace delimiter, change if needed\n",
    "    second_column = data.iloc[:, 0]  # Change index if the second column is not at position 1\n",
    "\n",
    "    # Calculate average and standard deviation and append to lists\n",
    "    averages.append(second_column.mean())\n",
    "    standard_deviations.append(second_column.std())\n",
    "\n",
    "# Combine data into a DataFrame and sort by averages\n",
    "df = pd.DataFrame({'Device': device, 'Average': averages, 'StdDev': standard_deviations})\n",
    "df_sorted = df.sort_values(by='Average')\n",
    "\n",
    "# Create a bar plot with error bars\n",
    "x_positions = np.arange(len(df_sorted))\n",
    "plt.bar(x_positions, df_sorted['Average'], yerr=df_sorted['StdDev'], align='center', alpha=0.7, ecolor='black', capsize=10)\n",
    "\n",
    "# Add labels and title (optional)\n",
    "plt.ylabel('ns/day')\n",
    "plt.title('6N4O_AMBER_cuda_results')\n",
    "plt.xticks(x_positions, df_sorted['Device'], rotation=\"vertical\")\n",
    "# plt.yticks(np.arange(0, max(df_sorted['Average']) + 10, 10))\n",
    "# plt.ylim(top=max(df_sorted['Average']) + 10, bottom=0)\n",
    "plt.yticks(np.arange(0,51,10))\n",
    "plt.ylim(top=50, bottom=0)\n",
    "\n",
    "\n",
    "# Display the plot\n",
    "plt.tight_layout()\n",
    "plt.savefig('benchmarks_6N4O_AMBER_results.jpg', dpi=450, bbox_inches='tight')\n"
   ]
  }
 ],
 "metadata": {
  "kernelspec": {
   "display_name": "Python 3 (ipykernel)",
   "language": "python",
   "name": "python3"
  },
  "language_info": {
   "codemirror_mode": {
    "name": "ipython",
    "version": 3
   },
   "file_extension": ".py",
   "mimetype": "text/x-python",
   "name": "python",
   "nbconvert_exporter": "python",
   "pygments_lexer": "ipython3",
   "version": "3.11.5"
  }
 },
 "nbformat": 4,
 "nbformat_minor": 5
}
